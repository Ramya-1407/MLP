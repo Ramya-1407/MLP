{
 "cells": [
  {
   "cell_type": "markdown",
   "id": "dde4a2a4",
   "metadata": {},
   "source": [
    "# LISTS"
   ]
  },
  {
   "cell_type": "markdown",
   "id": "1f9d75ab",
   "metadata": {},
   "source": [
    "- Lists comprehension is used to store heterogeneous elements\n",
    "- Lists contain items of different types\n",
    "- Lists are mutable\n",
    "- Lists are represent by \" [  ] \" that hold elements, seperated by \" , \" \n",
    "- Lists are built into Python"
   ]
  },
  {
   "cell_type": "markdown",
   "id": "12fa758d",
   "metadata": {},
   "source": [
    "## Empty List :\n",
    "- Can create in 2 ways:\n",
    "    - l = [ ] \n",
    "    - l = list() function"
   ]
  },
  {
   "cell_type": "code",
   "execution_count": 3,
   "id": "f70973f1",
   "metadata": {},
   "outputs": [
    {
     "data": {
      "text/plain": [
       "list"
      ]
     },
     "execution_count": 3,
     "metadata": {},
     "output_type": "execute_result"
    }
   ],
   "source": [
    "l=[]\n",
    "type(l)"
   ]
  },
  {
   "cell_type": "code",
   "execution_count": 4,
   "id": "5608a143",
   "metadata": {},
   "outputs": [
    {
     "data": {
      "text/plain": [
       "list"
      ]
     },
     "execution_count": 4,
     "metadata": {},
     "output_type": "execute_result"
    }
   ],
   "source": [
    "l=list()\n",
    "type(l)"
   ]
  },
  {
   "cell_type": "code",
   "execution_count": 5,
   "id": "65116235",
   "metadata": {},
   "outputs": [
    {
     "name": "stdout",
     "output_type": "stream",
     "text": [
      "[1, 3, 5, 7, 9]\n"
     ]
    },
    {
     "data": {
      "text/plain": [
       "list"
      ]
     },
     "execution_count": 5,
     "metadata": {},
     "output_type": "execute_result"
    }
   ],
   "source": [
    "l=[1,3,5,7,9]\n",
    "print(l)\n",
    "type(l)"
   ]
  },
  {
   "cell_type": "code",
   "execution_count": 6,
   "id": "7c7dc9f9",
   "metadata": {},
   "outputs": [
    {
     "name": "stdout",
     "output_type": "stream",
     "text": [
      "[1, 3.5, 'Ram', 3.14j]\n"
     ]
    },
    {
     "data": {
      "text/plain": [
       "list"
      ]
     },
     "execution_count": 6,
     "metadata": {},
     "output_type": "execute_result"
    }
   ],
   "source": [
    "l=[1,3.5,\"Ram\",3.14j]\n",
    "print(l)\n",
    "type(l)"
   ]
  },
  {
   "cell_type": "markdown",
   "id": "f64d1b6b",
   "metadata": {},
   "source": [
    "## Accessing :\n",
    "- Index based\n",
    "- slicing based"
   ]
  },
  {
   "cell_type": "code",
   "execution_count": 10,
   "id": "9ad41bd4",
   "metadata": {},
   "outputs": [],
   "source": [
    "MAANG = ['Meta','Apple','Amazon','Netflix','Google']"
   ]
  },
  {
   "cell_type": "markdown",
   "id": "ebeb0123",
   "metadata": {},
   "source": [
    "### Positive Indexing"
   ]
  },
  {
   "cell_type": "code",
   "execution_count": 11,
   "id": "616bf0f3",
   "metadata": {},
   "outputs": [
    {
     "data": {
      "text/plain": [
       "'Meta'"
      ]
     },
     "execution_count": 11,
     "metadata": {},
     "output_type": "execute_result"
    }
   ],
   "source": [
    "MAANG[0]"
   ]
  },
  {
   "cell_type": "code",
   "execution_count": 12,
   "id": "730ab02a",
   "metadata": {},
   "outputs": [
    {
     "data": {
      "text/plain": [
       "'Google'"
      ]
     },
     "execution_count": 12,
     "metadata": {},
     "output_type": "execute_result"
    }
   ],
   "source": [
    "MAANG[4]"
   ]
  },
  {
   "cell_type": "markdown",
   "id": "266ada44",
   "metadata": {},
   "source": [
    "### Negative Indexing"
   ]
  },
  {
   "cell_type": "code",
   "execution_count": 13,
   "id": "f6bcfba4",
   "metadata": {},
   "outputs": [
    {
     "data": {
      "text/plain": [
       "'Google'"
      ]
     },
     "execution_count": 13,
     "metadata": {},
     "output_type": "execute_result"
    }
   ],
   "source": [
    "MAANG[-1]"
   ]
  },
  {
   "cell_type": "code",
   "execution_count": 14,
   "id": "148b5f7a",
   "metadata": {
    "scrolled": true
   },
   "outputs": [
    {
     "data": {
      "text/plain": [
       "'Meta'"
      ]
     },
     "execution_count": 14,
     "metadata": {},
     "output_type": "execute_result"
    }
   ],
   "source": [
    "MAANG[-0]"
   ]
  },
  {
   "cell_type": "markdown",
   "id": "f86141a0",
   "metadata": {},
   "source": [
    "### NESTED LIST"
   ]
  },
  {
   "cell_type": "code",
   "execution_count": 15,
   "id": "70c6965d",
   "metadata": {},
   "outputs": [
    {
     "data": {
      "text/plain": [
       "[['c', 'c++'], ['java', 'R']]"
      ]
     },
     "execution_count": 15,
     "metadata": {},
     "output_type": "execute_result"
    }
   ],
   "source": [
    "lang1 = ['c','c++']\n",
    "lang2 = ['java','R']\n",
    "lang = [lang1,lang2]\n",
    "lang"
   ]
  },
  {
   "cell_type": "code",
   "execution_count": 16,
   "id": "36ca567e",
   "metadata": {},
   "outputs": [
    {
     "data": {
      "text/plain": [
       "list"
      ]
     },
     "execution_count": 16,
     "metadata": {},
     "output_type": "execute_result"
    }
   ],
   "source": [
    "type(lang)"
   ]
  },
  {
   "cell_type": "code",
   "execution_count": 18,
   "id": "1067c3dd",
   "metadata": {},
   "outputs": [
    {
     "data": {
      "text/plain": [
       "['c', 'c++']"
      ]
     },
     "execution_count": 18,
     "metadata": {},
     "output_type": "execute_result"
    }
   ],
   "source": [
    "lang[0]"
   ]
  },
  {
   "cell_type": "code",
   "execution_count": 20,
   "id": "b338ae5c",
   "metadata": {},
   "outputs": [
    {
     "data": {
      "text/plain": [
       "'c++'"
      ]
     },
     "execution_count": 20,
     "metadata": {},
     "output_type": "execute_result"
    }
   ],
   "source": [
    "lang[0][1]"
   ]
  },
  {
   "cell_type": "markdown",
   "id": "117213ee",
   "metadata": {},
   "source": [
    "## Slicing:"
   ]
  },
  {
   "cell_type": "code",
   "execution_count": 21,
   "id": "8d0f978c",
   "metadata": {},
   "outputs": [
    {
     "data": {
      "text/plain": [
       "['Meta', 'Apple', 'Amazon', 'Netflix', 'Google']"
      ]
     },
     "execution_count": 21,
     "metadata": {},
     "output_type": "execute_result"
    }
   ],
   "source": [
    "MAANG"
   ]
  },
  {
   "cell_type": "code",
   "execution_count": 22,
   "id": "8e18823d",
   "metadata": {},
   "outputs": [
    {
     "data": {
      "text/plain": [
       "['Meta', 'Apple']"
      ]
     },
     "execution_count": 22,
     "metadata": {},
     "output_type": "execute_result"
    }
   ],
   "source": [
    "MAANG[0:2]"
   ]
  },
  {
   "cell_type": "code",
   "execution_count": 25,
   "id": "e01b86af",
   "metadata": {},
   "outputs": [
    {
     "data": {
      "text/plain": [
       "['Netflix']"
      ]
     },
     "execution_count": 25,
     "metadata": {},
     "output_type": "execute_result"
    }
   ],
   "source": [
    "MAANG[3:4]"
   ]
  },
  {
   "cell_type": "code",
   "execution_count": 26,
   "id": "72934349",
   "metadata": {},
   "outputs": [
    {
     "data": {
      "text/plain": [
       "['Meta', 'Amazon']"
      ]
     },
     "execution_count": 26,
     "metadata": {},
     "output_type": "execute_result"
    }
   ],
   "source": [
    "MAANG[0:4:2]"
   ]
  },
  {
   "cell_type": "code",
   "execution_count": 27,
   "id": "5854a5f6",
   "metadata": {},
   "outputs": [
    {
     "data": {
      "text/plain": [
       "['Meta', 'Apple', 'Amazon']"
      ]
     },
     "execution_count": 27,
     "metadata": {},
     "output_type": "execute_result"
    }
   ],
   "source": [
    "MAANG[:3]"
   ]
  },
  {
   "cell_type": "code",
   "execution_count": 28,
   "id": "f61deb07",
   "metadata": {},
   "outputs": [
    {
     "data": {
      "text/plain": [
       "['Netflix', 'Google']"
      ]
     },
     "execution_count": 28,
     "metadata": {},
     "output_type": "execute_result"
    }
   ],
   "source": [
    "MAANG[3:]"
   ]
  },
  {
   "cell_type": "code",
   "execution_count": 29,
   "id": "5a8218f3",
   "metadata": {},
   "outputs": [
    {
     "data": {
      "text/plain": [
       "['Netflix', 'Google']"
      ]
     },
     "execution_count": 29,
     "metadata": {},
     "output_type": "execute_result"
    }
   ],
   "source": [
    "MAANG[-2:]"
   ]
  },
  {
   "cell_type": "code",
   "execution_count": 34,
   "id": "7445cbc7",
   "metadata": {},
   "outputs": [
    {
     "data": {
      "text/plain": [
       "['Google', 'Netflix', 'Amazon', 'Apple', 'Meta']"
      ]
     },
     "execution_count": 34,
     "metadata": {},
     "output_type": "execute_result"
    }
   ],
   "source": [
    "MAANG[::-1]"
   ]
  },
  {
   "cell_type": "markdown",
   "id": "75f859a0",
   "metadata": {},
   "source": [
    "### CHANGING VALUES WITH INDEXING"
   ]
  },
  {
   "cell_type": "code",
   "execution_count": 36,
   "id": "2160afec",
   "metadata": {},
   "outputs": [
    {
     "data": {
      "text/plain": [
       "['Meta', 'Alphabet', 'Amazon', 'Netflix', 'Google']"
      ]
     },
     "execution_count": 36,
     "metadata": {},
     "output_type": "execute_result"
    }
   ],
   "source": [
    "MAANG[1]='Alphabet'\n",
    "MAANG"
   ]
  },
  {
   "cell_type": "markdown",
   "id": "714f4305",
   "metadata": {},
   "source": [
    "### Concatenation"
   ]
  },
  {
   "cell_type": "code",
   "execution_count": 38,
   "id": "b868cdce",
   "metadata": {},
   "outputs": [
    {
     "data": {
      "text/plain": [
       "[1, 2, 3, 'A', 'B', 'C']"
      ]
     },
     "execution_count": 38,
     "metadata": {},
     "output_type": "execute_result"
    }
   ],
   "source": [
    "[1, 2, 3] + ['A', 'B', 'C']"
   ]
  },
  {
   "cell_type": "markdown",
   "id": "d2f7e7dd",
   "metadata": {},
   "source": [
    "### Replication"
   ]
  },
  {
   "cell_type": "code",
   "execution_count": 39,
   "id": "1cfd278f",
   "metadata": {},
   "outputs": [
    {
     "data": {
      "text/plain": [
       "[1, 2, 3, 1, 2, 3]"
      ]
     },
     "execution_count": 39,
     "metadata": {},
     "output_type": "execute_result"
    }
   ],
   "source": [
    "[1, 2, 3] *2"
   ]
  },
  {
   "cell_type": "markdown",
   "id": "94bf36c0",
   "metadata": {},
   "source": [
    "### Removing"
   ]
  },
  {
   "cell_type": "code",
   "execution_count": 40,
   "id": "8a9cb2b9",
   "metadata": {},
   "outputs": [
    {
     "data": {
      "text/plain": [
       "['Meta', 'Amazon', 'Netflix', 'Google']"
      ]
     },
     "execution_count": 40,
     "metadata": {},
     "output_type": "execute_result"
    }
   ],
   "source": [
    "del MAANG[1]\n",
    "MAANG"
   ]
  },
  {
   "cell_type": "markdown",
   "id": "0e34a71b",
   "metadata": {},
   "source": [
    "### in and not in Operators"
   ]
  },
  {
   "cell_type": "code",
   "execution_count": 43,
   "id": "618f9091",
   "metadata": {},
   "outputs": [
    {
     "data": {
      "text/plain": [
       "False"
      ]
     },
     "execution_count": 43,
     "metadata": {},
     "output_type": "execute_result"
    }
   ],
   "source": [
    "'Apple' in MAANG"
   ]
  },
  {
   "cell_type": "code",
   "execution_count": 46,
   "id": "b9f0a06e",
   "metadata": {},
   "outputs": [],
   "source": [
    "MAANG.insert(1,'Apple')"
   ]
  },
  {
   "cell_type": "code",
   "execution_count": 48,
   "id": "a91ece72",
   "metadata": {},
   "outputs": [
    {
     "data": {
      "text/plain": [
       "True"
      ]
     },
     "execution_count": 48,
     "metadata": {},
     "output_type": "execute_result"
    }
   ],
   "source": [
    "'Apple' in MAANG"
   ]
  },
  {
   "cell_type": "markdown",
   "id": "54957db0",
   "metadata": {},
   "source": [
    "### Assign Multiple variables"
   ]
  },
  {
   "cell_type": "code",
   "execution_count": 50,
   "id": "34583afa",
   "metadata": {},
   "outputs": [],
   "source": [
    "stud = ['5411', 'Ramya.D', 'AI&DS']\n",
    "reg = stud[0]\n",
    "name= stud[1]\n",
    "dept= stud[2]"
   ]
  },
  {
   "cell_type": "code",
   "execution_count": 51,
   "id": "1c25d4d4",
   "metadata": {},
   "outputs": [
    {
     "data": {
      "text/plain": [
       "('Reg_no :', '5411', 'Name :', 'Ramya.D', 'Dept :', 'AI&DS')"
      ]
     },
     "execution_count": 51,
     "metadata": {},
     "output_type": "execute_result"
    }
   ],
   "source": [
    "\"Reg_no :\",reg,\"Name :\",name,\"Dept :\",dept"
   ]
  },
  {
   "cell_type": "code",
   "execution_count": 52,
   "id": "e7effcfa",
   "metadata": {},
   "outputs": [
    {
     "name": "stdout",
     "output_type": "stream",
     "text": [
      "Reg_no : 5411 Name : Ramya.D Dept : AI&DS\n"
     ]
    }
   ],
   "source": [
    "print(\"Reg_no :\",reg,\"Name :\",name,\"Dept :\",dept)"
   ]
  }
 ],
 "metadata": {
  "kernelspec": {
   "display_name": "Python 3",
   "language": "python",
   "name": "python3"
  },
  "language_info": {
   "codemirror_mode": {
    "name": "ipython",
    "version": 3
   },
   "file_extension": ".py",
   "mimetype": "text/x-python",
   "name": "python",
   "nbconvert_exporter": "python",
   "pygments_lexer": "ipython3",
   "version": "3.8.8"
  }
 },
 "nbformat": 4,
 "nbformat_minor": 5
}
